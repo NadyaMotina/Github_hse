{
 "cells": [
  {
   "cell_type": "code",
   "execution_count": 24,
   "metadata": {
    "collapsed": true
   },
   "outputs": [],
   "source": [
    "# -*- coding: utf-8 -*-\n",
    "__author__ = 'nadya_motina'\n",
    "\n",
    "import time\n",
    "import codecs\n",
    "import pandas\n",
    "import networkx as nx\n",
    "import matplotlib.pyplot as plt\n",
    "%matplotlib inline\n",
    "from gensim.models import Word2Vec\n",
    "from itertools import combinations"
   ]
  },
  {
   "cell_type": "code",
   "execution_count": 2,
   "metadata": {
    "collapsed": false
   },
   "outputs": [
    {
     "name": "stdout",
     "output_type": "stream",
     "text": [
      "Model loaded successfully. It took  16.0365078449  seconds\n"
     ]
    }
   ],
   "source": [
    "start_time = time.time()\n",
    "model = Word2Vec.load_word2vec_format('../../Diplom/models/ruscorpora.model.bin', binary=True)\n",
    "print 'Model loaded successfully. It took ', time.time() - start_time, ' seconds'"
   ]
  },
  {
   "cell_type": "code",
   "execution_count": 3,
   "metadata": {
    "collapsed": false
   },
   "outputs": [
    {
     "data": {
      "text/html": [
       "<div>\n",
       "<table border=\"1\" class=\"dataframe\">\n",
       "  <thead>\n",
       "    <tr style=\"text-align: right;\">\n",
       "      <th></th>\n",
       "      <th>Lemma</th>\n",
       "      <th>PoS</th>\n",
       "      <th>Freq(ipm)</th>\n",
       "      <th>Doc</th>\n",
       "    </tr>\n",
       "  </thead>\n",
       "  <tbody>\n",
       "    <tr>\n",
       "      <th>0</th>\n",
       "      <td>быть</td>\n",
       "      <td>v</td>\n",
       "      <td>12160.7</td>\n",
       "      <td>34184</td>\n",
       "    </tr>\n",
       "    <tr>\n",
       "      <th>1</th>\n",
       "      <td>год</td>\n",
       "      <td>s</td>\n",
       "      <td>3727.5</td>\n",
       "      <td>29477</td>\n",
       "    </tr>\n",
       "    <tr>\n",
       "      <th>2</th>\n",
       "      <td>мочь</td>\n",
       "      <td>v</td>\n",
       "      <td>2912.3</td>\n",
       "      <td>25413</td>\n",
       "    </tr>\n",
       "    <tr>\n",
       "      <th>3</th>\n",
       "      <td>человек</td>\n",
       "      <td>s</td>\n",
       "      <td>2723.0</td>\n",
       "      <td>20423</td>\n",
       "    </tr>\n",
       "    <tr>\n",
       "      <th>4</th>\n",
       "      <td>сказать</td>\n",
       "      <td>v</td>\n",
       "      <td>2396.6</td>\n",
       "      <td>15426</td>\n",
       "    </tr>\n",
       "  </tbody>\n",
       "</table>\n",
       "</div>"
      ],
      "text/plain": [
       "     Lemma PoS  Freq(ipm)    Doc\n",
       "0     быть   v    12160.7  34184\n",
       "1      год   s     3727.5  29477\n",
       "2     мочь   v     2912.3  25413\n",
       "3  человек   s     2723.0  20423\n",
       "4  сказать   v     2396.6  15426"
      ]
     },
     "execution_count": 3,
     "metadata": {},
     "output_type": "execute_result"
    }
   ],
   "source": [
    "infile = codecs.open('../Lyashevskaya/freqrnc2011.csv', 'r', 'utf8')\n",
    "data = pandas.read_csv(infile, sep='\\t')\n",
    "infile.close()\n",
    "data.head()"
   ]
  },
  {
   "cell_type": "code",
   "execution_count": 4,
   "metadata": {
    "collapsed": false
   },
   "outputs": [
    {
     "name": "stdout",
     "output_type": "stream",
     "text": [
      "Name: \n",
      "Type: DiGraph\n",
      "Number of nodes: 43765\n",
      "Number of edges: 0\n",
      "Average in degree:   0.0000\n",
      "Average out degree:   0.0000\n"
     ]
    }
   ],
   "source": [
    "wg = nx.DiGraph()\n",
    "\n",
    "for i in range(len(data)):\n",
    "    pos = data['PoS'][i]\n",
    "    ipm = float(data['Freq(ipm)'][i])\n",
    "    lemma = (data['Lemma'][i] + '_' + pos.upper()).decode('utf8')\n",
    "    try:\n",
    "        vec = model[lemma]\n",
    "        wg.add_node(lemma, ipm=ipm)\n",
    "    except:\n",
    "        pass\n",
    "    \n",
    "neighbors = wg.nodes(data=True)\n",
    "print nx.info(wg)"
   ]
  },
  {
   "cell_type": "code",
   "execution_count": 40,
   "metadata": {
    "collapsed": false,
    "scrolled": true
   },
   "outputs": [
    {
     "name": "stdout",
     "output_type": "stream",
     "text": [
      "RNG built successfully. It took  185.005553961  seconds\n",
      "Name: \n",
      "Type: DiGraph\n",
      "Number of nodes: 43765\n",
      "Number of edges: 5891\n",
      "Average in degree:   0.1346\n",
      "Average out degree:   0.1346\n"
     ]
    }
   ],
   "source": [
    "start_time = time.time()\n",
    "\n",
    "n = 0\n",
    "\n",
    "for pair in combinations(neighbors, 2): # 957,665,730 combinations\n",
    "    word0 = pair[0][0]\n",
    "    word1 = pair[1][0]\n",
    "    similarity = model.similarity(word0, word1)\n",
    "    if similarity > 0:\n",
    "        remaining = [vertex for vertex in neighbors if vertex != pair[0] and vertex != pair[1]]\n",
    "        for vertex in remaining:\n",
    "            drawedge = True\n",
    "            candidate = vertex[0]\n",
    "            try:\n",
    "                if model.similarity(candidate, word1) > similarity and model.similarity(candidate, word0) > similarity:\n",
    "                    drawedge = False\n",
    "                    break\n",
    "                if drawedge == True:\n",
    "                    wg.add_edge(pair[0][0], pair[1][0], cos_sim=similarity)\n",
    "            except:\n",
    "                pass\n",
    "    else:\n",
    "        pass\n",
    "    n += 1\n",
    "    if n == 10000:\n",
    "        break\n",
    "    \n",
    "print 'RNG built successfully. It took ', time.time() - start_time, ' seconds'\n",
    "print nx.info(wg)"
   ]
  },
  {
   "cell_type": "code",
   "execution_count": null,
   "metadata": {
    "collapsed": true
   },
   "outputs": [],
   "source": []
  }
 ],
 "metadata": {
  "kernelspec": {
   "display_name": "Python 2",
   "language": "python",
   "name": "python2"
  },
  "language_info": {
   "codemirror_mode": {
    "name": "ipython",
    "version": 2
   },
   "file_extension": ".py",
   "mimetype": "text/x-python",
   "name": "python",
   "nbconvert_exporter": "python",
   "pygments_lexer": "ipython2",
   "version": "2.7.10"
  }
 },
 "nbformat": 4,
 "nbformat_minor": 0
}
